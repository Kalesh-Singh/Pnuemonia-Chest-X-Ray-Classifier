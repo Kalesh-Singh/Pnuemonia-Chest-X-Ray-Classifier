{
 "cells": [
  {
   "cell_type": "code",
   "execution_count": 148,
   "metadata": {},
   "outputs": [],
   "source": [
    "# Required modules and imports\n",
    "from PIL import Image\n",
    "from glob import glob\n",
    "import os"
   ]
  },
  {
   "cell_type": "code",
   "execution_count": 149,
   "metadata": {},
   "outputs": [],
   "source": [
    "# Expected file structure for raw data\n",
    "\n",
    "# . |-data |-chest_xray_raw |-test  |- NORMAL\n",
    "#                                   |- PNUEMONIA\n",
    "#                           |-train |- NORMAL\n",
    "#                                   |- PNUEMONIA\n",
    "#                           |-val   |- NORMAL\n",
    "#                                   |- PNUEMONIA"
   ]
  },
  {
   "cell_type": "code",
   "execution_count": 150,
   "metadata": {},
   "outputs": [],
   "source": [
    "# Store processed data in the following file structure\n",
    "\n",
    "# . |-data |-chest_xray_processed |-test  |- NORMAL\n",
    "#                                         |- PNUEMONIA\n",
    "#                                 |-train |- NORMAL\n",
    "#                                         |- PNUEMONIA\n",
    "#                                 |-val   |- NORMAL\n",
    "#                                         |- PNUEMONIA"
   ]
  },
  {
   "cell_type": "code",
   "execution_count": 151,
   "metadata": {},
   "outputs": [],
   "source": [
    "# Constants\n",
    "RAW_IMG_DIRS = [\n",
    "    './data/chest_xray_raw/test/NORMAL',\n",
    "    './data/chest_xray_raw/test/PNEUMONIA',\n",
    "    './data/chest_xray_raw/train/NORMAL',\n",
    "    './data/chest_xray_raw/train/PNEUMONIA',\n",
    "    './data/chest_xray_raw/val/NORMAL',\n",
    "    './data/chest_xray_raw/val/PNEUMONIA'\n",
    "]\n",
    "\n",
    "PROCESSED_IMG_DIR = 'chest_xray_processed'\n",
    "\n",
    "IMG_WIDTH = 244\n",
    "IMG_HEIGHT = 244\n",
    "IMG_EXT = 'jpeg'\n",
    "\n",
    "START_MSG = 'Processing images ...\\nThis may take up to several minutes ...'\n",
    "SUCCESS_MSG = 'Sucessfully resized and saved new images in ./data/' + PROCESSED_IMG_DIR + '/' + '\\nDone.'"
   ]
  },
  {
   "cell_type": "code",
   "execution_count": 152,
   "metadata": {},
   "outputs": [],
   "source": [
    "def getProcessedPath(rawPath):\n",
    "    \"\"\"Returns the path to save the resized image.\"\"\"\n",
    "    rawPath = rawPath.replace('\\\\', '/')\n",
    "    dirs = rawPath.split('/')\n",
    "    dirs[2]= PROCESSED_IMG_DIR\n",
    "    new_dir = '/'.join(dirs[:-1])\n",
    "    if not os.path.exists(new_dir):\n",
    "            os.makedirs(new_dir)\n",
    "    return '/'.join(dirs)"
   ]
  },
  {
   "cell_type": "code",
   "execution_count": 153,
   "metadata": {},
   "outputs": [],
   "source": [
    "def resizeAndSaveImg(path):\n",
    "    \"\"\"Resizes and saves the image.\"\"\"\n",
    "    img = Image.open(path)\n",
    "    img = img.resize((IMG_WIDTH, IMG_HEIGHT), Image.ANTIALIAS)\n",
    "    img.save(getProcessedPath(path))"
   ]
  },
  {
   "cell_type": "code",
   "execution_count": 154,
   "metadata": {},
   "outputs": [],
   "source": [
    "def resizeAllImages():\n",
    "    \"\"\"Resizes all the raw images.\"\"\"\n",
    "    print(START_MSG)\n",
    "    for _dir in RAW_IMG_DIRS:\n",
    "        img_paths = glob(_dir + '/*.' + IMG_EXT)\n",
    "        for path in img_paths:\n",
    "            resizeAndSaveImg(path)\n",
    "    print(SUCCESS_MSG)"
   ]
  },
  {
   "cell_type": "code",
   "execution_count": 155,
   "metadata": {},
   "outputs": [
    {
     "name": "stdout",
     "output_type": "stream",
     "text": [
      "Processing images ...\n",
      "This may take up to several minutes ...\n",
      "Sucessfully resized and saved new images in ./data/chest_xray_processed/\n",
      "Done.\n"
     ]
    }
   ],
   "source": [
    "resizeAllImages()"
   ]
  },
  {
   "cell_type": "code",
   "execution_count": null,
   "metadata": {},
   "outputs": [],
   "source": []
  }
 ],
 "metadata": {
  "kernelspec": {
   "display_name": "Python 3",
   "language": "python",
   "name": "python3"
  },
  "language_info": {
   "codemirror_mode": {
    "name": "ipython",
    "version": 3
   },
   "file_extension": ".py",
   "mimetype": "text/x-python",
   "name": "python",
   "nbconvert_exporter": "python",
   "pygments_lexer": "ipython3",
   "version": "3.6.7"
  }
 },
 "nbformat": 4,
 "nbformat_minor": 2
}
