{
 "cells": [
  {
   "cell_type": "code",
   "execution_count": 129,
   "metadata": {},
   "outputs": [],
   "source": [
    "# Required modules and imports\n",
    "from PIL import Image\n",
    "from glob import glob\n",
    "import os"
   ]
  },
  {
   "cell_type": "code",
   "execution_count": 130,
   "metadata": {},
   "outputs": [],
   "source": [
    "# Expected file structure for raw data\n",
    "\n",
    "# . |-data |-chest_xray_raw |-test  |- NORMAL\n",
    "#                                   |- PNUEMONIA\n",
    "#                           |-train |- NORMAL\n",
    "#                                   |- PNUEMONIA\n",
    "#                           |-val   |- NORMAL\n",
    "#                                   |- PNUEMONIA"
   ]
  },
  {
   "cell_type": "code",
   "execution_count": 131,
   "metadata": {},
   "outputs": [],
   "source": [
    "# Store processed data in the following file structure\n",
    "\n",
    "# . |-data |-chest_xray_processed |-test  |- NORMAL\n",
    "#                                         |- PNUEMONIA\n",
    "#                                 |-train |- NORMAL\n",
    "#                                         |- PNUEMONIA\n",
    "#                                 |-val   |- NORMAL\n",
    "#                                         |- PNUEMONIA"
   ]
  },
  {
   "cell_type": "code",
   "execution_count": 132,
   "metadata": {},
   "outputs": [],
   "source": [
    "# Constants\n",
    "RAW_IMG_DIRS = [\n",
    "    './data/chest_xray_raw/test/NORMAL',\n",
    "    './data/chest_xray_raw/test/PNEUMONIA',\n",
    "    './data/chest_xray_raw/train/NORMAL',\n",
    "    './data/chest_xray_raw/train/PNEUMONIA',\n",
    "    './data/chest_xray_raw/val/NORMAL',\n",
    "    './data/chest_xray_raw/val/PNEUMONIA'\n",
    "]\n",
    "\n",
    "PROCESSED_IMG_DIR = 'chest_xray_processed'\n",
    "\n",
    "IMG_WIDTH = 244\n",
    "IMG_HEIGHT = 244\n",
    "IMG_EXT = 'jpeg'\n",
    "\n",
    "SUCCESS_MSG = 'Sucessfully resized and saved new images in ./data/' + PROCESSED_IMG_DIR + '/'"
   ]
  },
  {
   "cell_type": "code",
   "execution_count": 133,
   "metadata": {},
   "outputs": [],
   "source": [
    "def getProcessedPath(rawPath):\n",
    "    \"\"\"Returns the path to save the resized image.\"\"\"\n",
    "    rawPath = rawPath.replace('\\\\', '/')\n",
    "    dirs = rawPath.split('/')\n",
    "    dirs[2]= PROCESSED_IMG_DIR\n",
    "    new_dir = '/'.join(dirs[:-1])\n",
    "    if not os.path.exists(new_dir):\n",
    "            os.makedirs(new_dir)\n",
    "    return '/'.join(dirs)"
   ]
  },
  {
   "cell_type": "code",
   "execution_count": 134,
   "metadata": {},
   "outputs": [],
   "source": [
    "def resizeAndSaveImg(path):\n",
    "    \"\"\"Resizes and saves the image.\"\"\"\n",
    "    img = Image.open(path)\n",
    "    img = img.resize((IMG_WIDTH, IMG_HEIGHT), Image.ANTIALIAS)\n",
    "    img.save(getProcessedPath(path))"
   ]
  },
  {
   "cell_type": "code",
   "execution_count": 126,
   "metadata": {},
   "outputs": [],
   "source": [
    "def resizeAllImages():\n",
    "    \"\"\"Resizes all the raw images.\"\"\"\n",
    "    for _dir in RAW_IMG_DIRS:\n",
    "        img_paths = glob(_dir + '/*.' + IMG_EXT)\n",
    "        for path in img_paths:\n",
    "            resizeAndSaveImg(path)\n",
    "    print(SUCCESS_MSG)"
   ]
  },
  {
   "cell_type": "code",
   "execution_count": 127,
   "metadata": {},
   "outputs": [
    {
     "name": "stdout",
     "output_type": "stream",
     "text": [
      "Sucessfully resized and saved new images in ./data/chest_xray_processed\n"
     ]
    }
   ],
   "source": [
    "resizeAllImages()"
   ]
  },
  {
   "cell_type": "code",
   "execution_count": null,
   "metadata": {},
   "outputs": [],
   "source": []
  }
 ],
 "metadata": {
  "kernelspec": {
   "display_name": "Python 3",
   "language": "python",
   "name": "python3"
  },
  "language_info": {
   "codemirror_mode": {
    "name": "ipython",
    "version": 3
   },
   "file_extension": ".py",
   "mimetype": "text/x-python",
   "name": "python",
   "nbconvert_exporter": "python",
   "pygments_lexer": "ipython3",
   "version": "3.6.7"
  }
 },
 "nbformat": 4,
 "nbformat_minor": 2
}
